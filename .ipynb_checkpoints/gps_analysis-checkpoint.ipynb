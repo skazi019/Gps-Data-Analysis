{
 "cells": [
  {
   "cell_type": "markdown",
   "metadata": {},
   "source": [
    "# Strava Gps Data Analysis "
   ]
  },
  {
   "cell_type": "markdown",
   "metadata": {},
   "source": [
    "### Importing the Libraries"
   ]
  },
  {
   "cell_type": "code",
   "execution_count": 3,
   "metadata": {},
   "outputs": [],
   "source": [
    "import gpxpy\n",
    "import matplotlib.pyplot as plt\n",
    "import datetime\n",
    "from geopy import distance\n",
    "from math import sqrt, floor\n",
    "import numpy as np\n",
    "import pandas as pd\n",
    "import plotly.plotly as py\n",
    "import plotly.graph_objs as go\n",
    "import haversine"
   ]
  },
  {
   "cell_type": "markdown",
   "metadata": {},
   "source": [
    "### Loading the gpx data in read mode and parsing in a new variable"
   ]
  },
  {
   "cell_type": "code",
   "execution_count": 5,
   "metadata": {},
   "outputs": [],
   "source": [
    "gpx_file = open('Improving_Avg_speed_.gpx', 'r')\n",
    "gpx = gpxpy.parse(gpx_file)"
   ]
  },
  {
   "cell_type": "markdown",
   "metadata": {},
   "source": [
    "The following is a GPX object and it consist of __GPXTrack__ objects. The GPXTrack objects consists of __GPSTrackSegment__ objects, which consist of __GPXTrackPoints__. \n",
    "These points are the four-value data points we need. The can be accessed with _longitude_, _latitude_, _elevation_, and _time_ attributes."
   ]
  },
  {
   "cell_type": "markdown",
   "metadata": {},
   "source": [
    "Before proceeding with any analysis of the data, we first need to check how to data is divided. We can do this by checking the lengths of the _tracks_, _segments_ and _points_ list."
   ]
  },
  {
   "cell_type": "code",
   "execution_count": 10,
   "metadata": {},
   "outputs": [
    {
     "data": {
      "text/plain": [
       "3911"
      ]
     },
     "execution_count": 10,
     "metadata": {},
     "output_type": "execute_result"
    }
   ],
   "source": [
    "len(gpx.tracks)\n",
    "len(gpx.tracks[0].segments)\n",
    "len(gpx.tracks[0].segments[0].points)"
   ]
  },
  {
   "cell_type": "markdown",
   "metadata": {},
   "source": [
    "the length of both, _tracks_ and _segments_ is 1. Which indicates all the data is concentrated in the _points_ attribute and of the first _segment_ of the first track.\n",
    "Therefore, it makes sense to create a new variable that points directly to the list of the data points."
   ]
  },
  {
   "cell_type": "code",
   "execution_count": 11,
   "metadata": {},
   "outputs": [],
   "source": [
    "data = gpx.tracks[0].segments[0].points"
   ]
  },
  {
   "cell_type": "markdown",
   "metadata": {},
   "source": [
    "Now, taking a look at the start and end points to make sure that eveything makes sense (i.e. start time < end time, start elevation = end elevation etc..). \n",
    "If the data is inconsistent the ncomething might be wrong with the data."
   ]
  },
  {
   "cell_type": "code",
   "execution_count": 12,
   "metadata": {},
   "outputs": [],
   "source": [
    "# start position\n",
    "start = data[0]\n",
    "# end position\n",
    "finish = data[-1]"
   ]
  },
  {
   "cell_type": "code",
   "execution_count": 13,
   "metadata": {},
   "outputs": [
    {
     "data": {
      "text/plain": [
       "GPXTrackPoint(19.227343, 72.858237, elevation=21.8, time=datetime.datetime(2017, 2, 24, 2, 8, 35))"
      ]
     },
     "execution_count": 13,
     "metadata": {},
     "output_type": "execute_result"
    }
   ],
   "source": [
    "start"
   ]
  },
  {
   "cell_type": "code",
   "execution_count": 14,
   "metadata": {},
   "outputs": [
    {
     "data": {
      "text/plain": [
       "GPXTrackPoint(19.226988, 72.857732, elevation=21.2, time=datetime.datetime(2017, 2, 24, 3, 23, 59))"
      ]
     },
     "execution_count": 14,
     "metadata": {},
     "output_type": "execute_result"
    }
   ],
   "source": [
    "finish"
   ]
  },
  {
   "cell_type": "markdown",
   "metadata": {},
   "source": [
    "Now that we have our data. we create a __Dataframe__ and put out data into it.\n",
    "We accomplish this by creating an empty dataframe and then iterating through all our data points while adding them to the dataframe."
   ]
  },
  {
   "cell_type": "code",
   "execution_count": 15,
   "metadata": {},
   "outputs": [],
   "source": [
    "df = pd.DataFrame(columns=['lon', 'lat', 'alt', 'time'])\n",
    "\n",
    "for points in data:\n",
    "    df = df.append({'lon': points.longitude, 'lat': points.latitude, \n",
    "                    'alt': points.elevation, 'time': points.time},\n",
    "                  ignore_index=True)"
   ]
  },
  {
   "cell_type": "markdown",
   "metadata": {},
   "source": [
    "Taking a look at the first 5 values of th dataframe."
   ]
  },
  {
   "cell_type": "code",
   "execution_count": 16,
   "metadata": {},
   "outputs": [
    {
     "data": {
      "text/html": [
       "<div>\n",
       "<style scoped>\n",
       "    .dataframe tbody tr th:only-of-type {\n",
       "        vertical-align: middle;\n",
       "    }\n",
       "\n",
       "    .dataframe tbody tr th {\n",
       "        vertical-align: top;\n",
       "    }\n",
       "\n",
       "    .dataframe thead th {\n",
       "        text-align: right;\n",
       "    }\n",
       "</style>\n",
       "<table border=\"1\" class=\"dataframe\">\n",
       "  <thead>\n",
       "    <tr style=\"text-align: right;\">\n",
       "      <th></th>\n",
       "      <th>lon</th>\n",
       "      <th>lat</th>\n",
       "      <th>alt</th>\n",
       "      <th>time</th>\n",
       "    </tr>\n",
       "  </thead>\n",
       "  <tbody>\n",
       "    <tr>\n",
       "      <th>0</th>\n",
       "      <td>72.858237</td>\n",
       "      <td>19.227343</td>\n",
       "      <td>21.8</td>\n",
       "      <td>2017-02-24 02:08:35</td>\n",
       "    </tr>\n",
       "    <tr>\n",
       "      <th>1</th>\n",
       "      <td>72.858218</td>\n",
       "      <td>19.227267</td>\n",
       "      <td>21.3</td>\n",
       "      <td>2017-02-24 02:08:37</td>\n",
       "    </tr>\n",
       "    <tr>\n",
       "      <th>2</th>\n",
       "      <td>72.858153</td>\n",
       "      <td>19.227263</td>\n",
       "      <td>21.3</td>\n",
       "      <td>2017-02-24 02:08:38</td>\n",
       "    </tr>\n",
       "    <tr>\n",
       "      <th>3</th>\n",
       "      <td>72.858110</td>\n",
       "      <td>19.227262</td>\n",
       "      <td>21.2</td>\n",
       "      <td>2017-02-24 02:08:39</td>\n",
       "    </tr>\n",
       "    <tr>\n",
       "      <th>4</th>\n",
       "      <td>72.858078</td>\n",
       "      <td>19.227265</td>\n",
       "      <td>21.2</td>\n",
       "      <td>2017-02-24 02:08:40</td>\n",
       "    </tr>\n",
       "  </tbody>\n",
       "</table>\n",
       "</div>"
      ],
      "text/plain": [
       "         lon        lat   alt                time\n",
       "0  72.858237  19.227343  21.8 2017-02-24 02:08:35\n",
       "1  72.858218  19.227267  21.3 2017-02-24 02:08:37\n",
       "2  72.858153  19.227263  21.3 2017-02-24 02:08:38\n",
       "3  72.858110  19.227262  21.2 2017-02-24 02:08:39\n",
       "4  72.858078  19.227265  21.2 2017-02-24 02:08:40"
      ]
     },
     "execution_count": 16,
     "metadata": {},
     "output_type": "execute_result"
    }
   ],
   "source": [
    "df.head()"
   ]
  },
  {
   "cell_type": "markdown",
   "metadata": {},
   "source": [
    "The time interval between the points is supposed to be 1 second.\n",
    "However, there are going to be some irregularities due to poor connectivity. In such case the point is skipped and the next point is recorded which can be ssen in the data above. Hence we must not assume that the interval between all the points is the same."
   ]
  },
  {
   "cell_type": "markdown",
   "metadata": {},
   "source": [
    "Now that we have our data, we can go about plotting it. Plotting 2d map for longitude vs latitude, and elevation gain for altitude vs time."
   ]
  },
  {
   "cell_type": "code",
   "execution_count": 17,
   "metadata": {},
   "outputs": [
    {
     "data": {
      "text/plain": [
       "[<matplotlib.lines.Line2D at 0x7f1c914d6978>]"
      ]
     },
     "execution_count": 17,
     "metadata": {},
     "output_type": "execute_result"
    },
    {
     "data": {
      "image/png": "[encoded data removed]",
      "text/plain": [
       "<Figure size 432x288 with 1 Axes>"
      ]
     },
     "metadata": {},
     "output_type": "display_data"
    }
   ],
   "source": [
    "plt.plot(df['lon'], df['lat'])"
   ]
  },
  {
   "cell_type": "code",
   "execution_count": 18,
   "metadata": {},
   "outputs": [
    {
     "data": {
      "text/plain": [
       "[<matplotlib.lines.Line2D at 0x7f1c8d77cc18>]"
      ]
     },
     "execution_count": 18,
     "metadata": {},
     "output_type": "execute_result"
    },
    {
     "data": {
      "image/png": "[encoded data removed]",
      "text/plain": [
       "<Figure size 432x288 with 1 Axes>"
      ]
     },
     "metadata": {},
     "output_type": "display_data"
    }
   ],
   "source": [
    "plt.plot(df['time'], df['alt'])"
   ]
  },
  {
   "cell_type": "markdown",
   "metadata": {},
   "source": [
    "These graphs are pretty good representation of the route as well as elevation gain."
   ]
  },
  {
   "cell_type": "markdown",
   "metadata": {},
   "source": [
    "If we want our plots to look fancy then we can use plotly, but these plot do not add much value to our analysis."
   ]
  },
  {
   "cell_type": "markdown",
   "metadata": {},
   "source": [
    "Although we've done good job, we're still missing some values like distance and speed. This seems to be easy to calculate on paper but it should be noted that distance between two trackpoints is not a straight like but a spherical because of the curvature of the earth."
   ]
  },
  {
   "cell_type": "markdown",
   "metadata": {},
   "source": [
    "The two approahces for calculating this distance is the _Haversine_ distance and _Vincenty_ distance. "
   ]
  },
  {
   "cell_type": "markdown",
   "metadata": {},
   "source": [
    "Now, we might want to take into account the elevation gain or loss in our calculation. We can do this bu calculating the 2d distance and the use _Euclidean_ formula to add the third dimension.\n",
    "\n",
    "distance_3d = sqrt(distance_2d^2 + (alt2-alt1)^2)"
   ]
  },
  {
   "cell_type": "markdown",
   "metadata": {},
   "source": [
    "Now, we have all the information needed, we can start inplementing the formula in our code. We're gonna leave the dataframe as it is and create a list for every possilbe implementation of our distance formula and add the total distance to the end of the list for every data point."
   ]
  },
  {
   "cell_type": "markdown",
   "metadata": {},
   "source": [
    "While we're looping the datapoints, we also create lists for altitude difference, time difference, and distance difference between all the consecutive data points."
   ]
  },
  {
   "cell_type": "code",
   "execution_count": 25,
   "metadata": {},
   "outputs": [
    {
     "ename": "TypeError",
     "evalue": "unsupported operand type(s) for +: 'int' and 'vincenty'",
     "output_type": "error",
     "traceback": [
      "\u001b[0;31m---------------------------------------------------------------------------\u001b[0m",
      "\u001b[0;31mTypeError\u001b[0m                                 Traceback (most recent call last)",
      "\u001b[0;32m<ipython-input-25-651c8866507f>\u001b[0m in \u001b[0;36m<module>\u001b[0;34m()\u001b[0m\n\u001b[1;32m     25\u001b[0m         \u001b[0mdist_dif_hav_2d\u001b[0m\u001b[0;34m.\u001b[0m\u001b[0mappend\u001b[0m\u001b[0;34m(\u001b[0m\u001b[0mdistance_hav_2d\u001b[0m\u001b[0;34m)\u001b[0m\u001b[0;34m\u001b[0m\u001b[0m\n\u001b[1;32m     26\u001b[0m \u001b[0;34m\u001b[0m\u001b[0m\n\u001b[0;32m---> 27\u001b[0;31m         \u001b[0mdist_vin_no_alt\u001b[0m\u001b[0;34m.\u001b[0m\u001b[0mappend\u001b[0m\u001b[0;34m(\u001b[0m\u001b[0mdist_vin_no_alt\u001b[0m\u001b[0;34m[\u001b[0m\u001b[0;34m-\u001b[0m\u001b[0;36m1\u001b[0m\u001b[0;34m]\u001b[0m \u001b[0;34m+\u001b[0m \u001b[0mdistance_vin_2d\u001b[0m\u001b[0;34m)\u001b[0m\u001b[0;34m\u001b[0m\u001b[0m\n\u001b[0m\u001b[1;32m     28\u001b[0m \u001b[0;34m\u001b[0m\u001b[0m\n\u001b[1;32m     29\u001b[0m         \u001b[0mdist_hav_no_alt\u001b[0m\u001b[0;34m.\u001b[0m\u001b[0mappend\u001b[0m\u001b[0;34m(\u001b[0m\u001b[0mdist_hav_no_alt\u001b[0m\u001b[0;34m[\u001b[0m\u001b[0;34m-\u001b[0m\u001b[0;36m1\u001b[0m\u001b[0;34m]\u001b[0m \u001b[0;34m+\u001b[0m \u001b[0mdistance_hav_2d\u001b[0m\u001b[0;34m)\u001b[0m\u001b[0;34m\u001b[0m\u001b[0m\n",
      "\u001b[0;31mTypeError\u001b[0m: unsupported operand type(s) for +: 'int' and 'vincenty'"
     ]
    }
   ],
   "source": [
    "alt_dif = [0]\n",
    "time_dif = [0]\n",
    "dist_vin = [0]\n",
    "dist_hav = [0]\n",
    "dist_vin_no_alt = [0]\n",
    "dist_hav_no_alt = [0]\n",
    "dist_dif_hav_2d = [0]\n",
    "dist_dif_vin_2d = [0]\n",
    "\n",
    "for index in range(len(data)):\n",
    "    if index == 0:\n",
    "        pass\n",
    "    else:\n",
    "        start = data[index-1]\n",
    "        stop = data[index]\n",
    "        \n",
    "        distance_vin_2d = distance.vincenty((start.latitude, start.longitude),\n",
    "                                           (stop.latitude, stop.longitude))*1000\n",
    "        \n",
    "        dist_dif_vin_2d.append(distance_vin_2d)\n",
    "        \n",
    "        distance_hav_2d = haversine.haversine((start.latitude, start.longitude),\n",
    "                                             (stop.latitude, stop.longitude))*1000\n",
    "        \n",
    "        dist_dif_hav_2d.append(distance_hav_2d)\n",
    "        \n",
    "        dist_vin_no_alt.append(dist_vin_no_alt[-1] + distance_vin_2d)\n",
    "        \n",
    "        dist_hav_no_alt.append(dist_hav_no_alt[-1] + distance_hav_2d)\n",
    "        \n",
    "        alt_d = start.elevation - stop.elevation\n",
    "        \n",
    "        alt_dif.append(alt_d)\n",
    "        \n",
    "        distance_vin_3d = sqrt(distance_vin_2d**2 + (alt_d)**2)\n",
    "        \n",
    "        distance_hav_3d = sqrt(distance_hav_2d**2 + (alt_d)**2)\n",
    "        \n",
    "        time_delta = (stop.time - start.time).total_seconds()\n",
    "        \n",
    "        time_dif.append(time_delta)\n",
    "        \n",
    "        dist_vin.append(dist_vin[-1] + distance_vin_3d)\n",
    "        \n",
    "        dist_hav.append(dist_hav[-1] + distance_hav_3d)"
   ]
  },
  {
   "cell_type": "code",
   "execution_count": null,
   "metadata": {},
   "outputs": [],
   "source": []
  }
 ],
 "metadata": {
  "kernelspec": {
   "display_name": "Python 3",
   "language": "python",
   "name": "python3"
  },
  "language_info": {
   "codemirror_mode": {
    "name": "ipython",
    "version": 3
   },
   "file_extension": ".py",
   "mimetype": "text/x-python",
   "name": "python",
   "nbconvert_exporter": "python",
   "pygments_lexer": "ipython3",
   "version": "3.6.5"
  }
 },
 "nbformat": 4,
 "nbformat_minor": 2
}
